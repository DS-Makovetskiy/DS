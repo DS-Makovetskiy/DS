{
 "cells": [
  {
   "cell_type": "code",
   "execution_count": 1,
   "metadata": {},
   "outputs": [],
   "source": [
    "import pandas as pd\n",
    "\n",
    "from sklearn.model_selection import train_test_split\n",
    "from sklearn.tree import DecisionTreeRegressor\n",
    "from sklearn.ensemble import StackingRegressor\n",
    "from sklearn.ensemble import RandomForestRegressor\n",
    "\n",
    "import optuna\n",
    "\n",
    "import pickle\n",
    "\n",
    "from catboost import CatBoostRegressor\n",
    "\n",
    "from xgboost import XGBRegressor\n",
    "\n",
    "from sklearn.pipeline import Pipeline\n",
    "from sklearn.preprocessing import StandardScaler\n",
    "from sklearn.linear_model import LinearRegression\n",
    "from sklearn.metrics import mean_absolute_error\n",
    "from sklearn.metrics import mean_absolute_percentage_error"
   ]
  },
  {
   "cell_type": "markdown",
   "metadata": {},
   "source": [
    "# 1. Загрузка и обработка данных"
   ]
  },
  {
   "cell_type": "code",
   "execution_count": 2,
   "metadata": {},
   "outputs": [
    {
     "data": {
      "text/html": [
       "<div>\n",
       "<style scoped>\n",
       "    .dataframe tbody tr th:only-of-type {\n",
       "        vertical-align: middle;\n",
       "    }\n",
       "\n",
       "    .dataframe tbody tr th {\n",
       "        vertical-align: top;\n",
       "    }\n",
       "\n",
       "    .dataframe thead th {\n",
       "        text-align: right;\n",
       "    }\n",
       "</style>\n",
       "<table border=\"1\" class=\"dataframe\">\n",
       "  <thead>\n",
       "    <tr style=\"text-align: right;\">\n",
       "      <th></th>\n",
       "      <th>baths</th>\n",
       "      <th>fireplace</th>\n",
       "      <th>city</th>\n",
       "      <th>sqft</th>\n",
       "      <th>beds</th>\n",
       "      <th>state</th>\n",
       "      <th>stories</th>\n",
       "      <th>target</th>\n",
       "      <th>private_pool</th>\n",
       "      <th>Year built</th>\n",
       "      <th>...</th>\n",
       "      <th>Heating_other</th>\n",
       "      <th>Cooling_central</th>\n",
       "      <th>Cooling_cooling</th>\n",
       "      <th>Cooling_other</th>\n",
       "      <th>Cooling_refrigeration</th>\n",
       "      <th>Cooling_wall</th>\n",
       "      <th>Parking_garage</th>\n",
       "      <th>Parking_no data</th>\n",
       "      <th>Parking_other</th>\n",
       "      <th>Parking_parking</th>\n",
       "    </tr>\n",
       "  </thead>\n",
       "  <tbody>\n",
       "    <tr>\n",
       "      <th>0</th>\n",
       "      <td>4</td>\n",
       "      <td>1</td>\n",
       "      <td>248</td>\n",
       "      <td>2900.0</td>\n",
       "      <td>4</td>\n",
       "      <td>18</td>\n",
       "      <td>1</td>\n",
       "      <td>418.0</td>\n",
       "      <td>0</td>\n",
       "      <td>196</td>\n",
       "      <td>...</td>\n",
       "      <td>False</td>\n",
       "      <td>False</td>\n",
       "      <td>False</td>\n",
       "      <td>False</td>\n",
       "      <td>False</td>\n",
       "      <td>False</td>\n",
       "      <td>False</td>\n",
       "      <td>True</td>\n",
       "      <td>False</td>\n",
       "      <td>False</td>\n",
       "    </tr>\n",
       "    <tr>\n",
       "      <th>1</th>\n",
       "      <td>3</td>\n",
       "      <td>0</td>\n",
       "      <td>248</td>\n",
       "      <td>1.9</td>\n",
       "      <td>3</td>\n",
       "      <td>32</td>\n",
       "      <td>2</td>\n",
       "      <td>310.0</td>\n",
       "      <td>0</td>\n",
       "      <td>196</td>\n",
       "      <td>...</td>\n",
       "      <td>False</td>\n",
       "      <td>False</td>\n",
       "      <td>False</td>\n",
       "      <td>False</td>\n",
       "      <td>False</td>\n",
       "      <td>False</td>\n",
       "      <td>False</td>\n",
       "      <td>True</td>\n",
       "      <td>False</td>\n",
       "      <td>False</td>\n",
       "    </tr>\n",
       "  </tbody>\n",
       "</table>\n",
       "<p>2 rows × 50 columns</p>\n",
       "</div>"
      ],
      "text/plain": [
       "   baths  fireplace  city    sqft  beds  state  stories  target  private_pool  \\\n",
       "0      4          1   248  2900.0     4     18        1   418.0             0   \n",
       "1      3          0   248     1.9     3     32        2   310.0             0   \n",
       "\n",
       "   Year built  ...  Heating_other  Cooling_central  Cooling_cooling  \\\n",
       "0         196  ...          False            False            False   \n",
       "1         196  ...          False            False            False   \n",
       "\n",
       "   Cooling_other  Cooling_refrigeration  Cooling_wall  Parking_garage  \\\n",
       "0          False                  False         False           False   \n",
       "1          False                  False         False           False   \n",
       "\n",
       "   Parking_no data  Parking_other  Parking_parking  \n",
       "0             True          False            False  \n",
       "1             True          False            False  \n",
       "\n",
       "[2 rows x 50 columns]"
      ]
     },
     "execution_count": 2,
     "metadata": {},
     "output_type": "execute_result"
    }
   ],
   "source": [
    "df = pd.read_csv('../data/processed_data.csv')\n",
    "\n",
    "df.head(2)"
   ]
  },
  {
   "cell_type": "code",
   "execution_count": 3,
   "metadata": {},
   "outputs": [],
   "source": [
    "# определение констант\n",
    "RANDOM_STATE = 42"
   ]
  },
  {
   "cell_type": "markdown",
   "metadata": {},
   "source": [
    "Разделим данные на обучающую и тестовую выборки"
   ]
  },
  {
   "cell_type": "code",
   "execution_count": 4,
   "metadata": {},
   "outputs": [],
   "source": [
    "X = df.drop('target', axis=1)\n",
    "y = df['target']\n",
    "\n",
    "X_train, X_test, y_train, y_test = train_test_split(X, y, test_size=0.2, random_state=RANDOM_STATE)"
   ]
  },
  {
   "cell_type": "markdown",
   "metadata": {},
   "source": [
    "# 2. Baseline"
   ]
  },
  {
   "cell_type": "markdown",
   "metadata": {},
   "source": [
    "Создадим простую, наивную модель, которая будет использоваться в качестве базовой для предсказания стоимости домов. Для предсказания будет взято среднее значение цены."
   ]
  },
  {
   "cell_type": "code",
   "execution_count": 5,
   "metadata": {},
   "outputs": [
    {
     "name": "stdout",
     "output_type": "stream",
     "text": [
      "Baseline MAPE: 21.05%\n",
      "Baseline MAE: 182.16$\n"
     ]
    }
   ],
   "source": [
    "mean_target_value = y_train.mean()\n",
    "\n",
    "naive_df = pd.DataFrame(\n",
    "    {'naive_prediction': y_test.values}\n",
    ")\n",
    "naive_df['naive_prediction'] = mean_target_value\n",
    "\n",
    "baseline_mape   = mean_absolute_percentage_error(y_test, naive_df['naive_prediction'])\n",
    "baseline_mae    = mean_absolute_error(y_test, naive_df['naive_prediction'])\n",
    "\n",
    "print(f'Baseline MAPE: {baseline_mape.round(2)}%')\n",
    "print(f'Baseline MAE: {baseline_mae.round(2)}$')\n",
    "\n",
    "# Сохранение модели\n",
    "with open('../models/baseline_model.pkl', 'wb') as f:\n",
    "    pickle.dump(naive_df, f)\n"
   ]
  },
  {
   "cell_type": "markdown",
   "metadata": {},
   "source": [
    "# 3. Pipeline"
   ]
  },
  {
   "cell_type": "markdown",
   "metadata": {},
   "source": [
    "Проверим работу нескольких моделей со значениями по умолчанию, для сравнения их эффективности между собой и базовой моделью. В качестве моделей будем использовать:\n",
    "* Linear Regression\n",
    "* Random Forest\n",
    "* XGBoost\n",
    "* Stacking Regressor\n",
    "    * estimators:\n",
    "        * DecisionTreeRegressor\n",
    "        * RandomForestRegressor\n",
    "    * final_estimator\n",
    "        * RandomForestRegressor\n",
    "\n",
    "Для более удобной работы с моделями, будем использовать pipeline для их обучения."
   ]
  },
  {
   "cell_type": "code",
   "execution_count": 6,
   "metadata": {},
   "outputs": [
    {
     "name": "stdout",
     "output_type": "stream",
     "text": [
      "Best Model: Stacking Regressor\n",
      "MAPE: 3.997\n",
      "MAE: 23.766\n"
     ]
    }
   ],
   "source": [
    "# список моделей\n",
    "models = [\n",
    "    ('Linear Regression',   LinearRegression()),\n",
    "    ('Random Forest',       RandomForestRegressor(random_state=RANDOM_STATE, n_jobs=-1)),\n",
    "    ('XGBoost',             XGBRegressor(random_state=RANDOM_STATE, n_jobs=-1)),\n",
    "    ('CatBoost Regressor',  CatBoostRegressor(random_state=RANDOM_STATE, silent=True)),\n",
    "    ('Stacking Regressor',  StackingRegressor(\n",
    "        estimators=[\n",
    "            ('dt', DecisionTreeRegressor(random_state=RANDOM_STATE)),\n",
    "            ('rf', RandomForestRegressor(random_state=RANDOM_STATE, n_jobs=-1))\n",
    "        ],\n",
    "        final_estimator=CatBoostRegressor(random_state=RANDOM_STATE, silent=True)\n",
    "    ))\n",
    "]\n",
    "\n",
    "# пустой список для записи результатов\n",
    "best_scores = []\n",
    "\n",
    "# pipeline модели\n",
    "for model_name, model in models:\n",
    "    pipeline = Pipeline([\n",
    "        ('scaler',  StandardScaler()),\n",
    "        ('model',   model)\n",
    "    ])\n",
    "\n",
    "    # обучение модели\n",
    "    pipeline.fit(X_train, y_train)\n",
    "\n",
    "    # получение предсказаний на тестовой выборке\n",
    "    y_pred  = pipeline.predict(X_test)\n",
    "\n",
    "    # рассчитываем метрики\n",
    "    mape    = mean_absolute_percentage_error(y_test, y_pred)\n",
    "    mae     = mean_absolute_error(y_test, y_pred)\n",
    "\n",
    "    # записываем результаты в список\n",
    "    best_scores.append({\n",
    "        'Model': model_name,\n",
    "        'MAPE': mape.round(3),\n",
    "        'MAE': mae.round(3),\n",
    "    })\n",
    "\n",
    "# добавим к спису моделей Baseline\n",
    "best_scores.append({\n",
    "        'Model': 'Baseline',\n",
    "        'MAPE': baseline_mape.round(3),\n",
    "        'MAE': baseline_mae.round(3),\n",
    "    })\n",
    "\n",
    "# создаем DataFrame из списка результатов\n",
    "best_scores_df = pd.DataFrame(best_scores)\n",
    "\n",
    "# выводим метрики и параметры лучшей модели\n",
    "best_model = best_scores_df.loc[best_scores_df['MAPE'].idxmin()]\n",
    "print('Best Model:', best_model['Model'])\n",
    "print('MAPE:', best_model['MAPE'])\n",
    "print('MAE:', best_model['MAE'])"
   ]
  },
  {
   "cell_type": "markdown",
   "metadata": {},
   "source": [
    "Сравним метрики моделей"
   ]
  },
  {
   "cell_type": "code",
   "execution_count": 7,
   "metadata": {},
   "outputs": [
    {
     "data": {
      "text/html": [
       "<div>\n",
       "<style scoped>\n",
       "    .dataframe tbody tr th:only-of-type {\n",
       "        vertical-align: middle;\n",
       "    }\n",
       "\n",
       "    .dataframe tbody tr th {\n",
       "        vertical-align: top;\n",
       "    }\n",
       "\n",
       "    .dataframe thead th {\n",
       "        text-align: right;\n",
       "    }\n",
       "</style>\n",
       "<table border=\"1\" class=\"dataframe\">\n",
       "  <thead>\n",
       "    <tr style=\"text-align: right;\">\n",
       "      <th></th>\n",
       "      <th>Model</th>\n",
       "      <th>MAPE</th>\n",
       "      <th>MAE</th>\n",
       "    </tr>\n",
       "  </thead>\n",
       "  <tbody>\n",
       "    <tr>\n",
       "      <th>0</th>\n",
       "      <td>Stacking Regressor</td>\n",
       "      <td>3.997</td>\n",
       "      <td>23.766</td>\n",
       "    </tr>\n",
       "    <tr>\n",
       "      <th>1</th>\n",
       "      <td>Random Forest</td>\n",
       "      <td>4.179</td>\n",
       "      <td>23.333</td>\n",
       "    </tr>\n",
       "    <tr>\n",
       "      <th>2</th>\n",
       "      <td>XGBoost</td>\n",
       "      <td>6.967</td>\n",
       "      <td>38.559</td>\n",
       "    </tr>\n",
       "    <tr>\n",
       "      <th>3</th>\n",
       "      <td>CatBoost Regressor</td>\n",
       "      <td>7.667</td>\n",
       "      <td>37.919</td>\n",
       "    </tr>\n",
       "    <tr>\n",
       "      <th>4</th>\n",
       "      <td>Baseline</td>\n",
       "      <td>21.049</td>\n",
       "      <td>182.162</td>\n",
       "    </tr>\n",
       "    <tr>\n",
       "      <th>5</th>\n",
       "      <td>Linear Regression</td>\n",
       "      <td>24.655</td>\n",
       "      <td>168.366</td>\n",
       "    </tr>\n",
       "  </tbody>\n",
       "</table>\n",
       "</div>"
      ],
      "text/plain": [
       "                Model    MAPE      MAE\n",
       "0  Stacking Regressor   3.997   23.766\n",
       "1       Random Forest   4.179   23.333\n",
       "2             XGBoost   6.967   38.559\n",
       "3  CatBoost Regressor   7.667   37.919\n",
       "4            Baseline  21.049  182.162\n",
       "5   Linear Regression  24.655  168.366"
      ]
     },
     "execution_count": 7,
     "metadata": {},
     "output_type": "execute_result"
    }
   ],
   "source": [
    "best_scores_df.sort_values(by='MAPE', ignore_index=True)"
   ]
  },
  {
   "cell_type": "code",
   "execution_count": 8,
   "metadata": {},
   "outputs": [
    {
     "name": "stdout",
     "output_type": "stream",
     "text": [
      "Удалось улучшить качество предсказания по сравнению базовой моделью на 81.01%\n"
     ]
    }
   ],
   "source": [
    "improvement_ratio       = best_model['MAPE'] / baseline_mape\n",
    "improvement_percentage  = (improvement_ratio - 1) * 100\n",
    "\n",
    "print(f'Удалось улучшить качество предсказания по сравнению базовой моделью на {-improvement_percentage.round(2)}%')"
   ]
  },
  {
   "cell_type": "markdown",
   "metadata": {},
   "source": [
    "# 4. Поиск оптимальных гиперпараметров модели"
   ]
  },
  {
   "cell_type": "markdown",
   "metadata": {},
   "source": [
    "Лучший рещультат показала модель **Stacking Regressor**, выполним поиск оптимальных гиперпараметров для улучшения метрики."
   ]
  },
  {
   "cell_type": "code",
   "execution_count": 9,
   "metadata": {},
   "outputs": [],
   "source": [
    "def objective(trial):\n",
    "    \"\"\"\n",
    "    функция для оптимизации гиперпараметров с помощью Optuna\n",
    "    \"\"\"\n",
    "    \n",
    "    dt_max_depth            = trial.suggest_int('dt_max_depth', 20, 30)\n",
    "    dt_min_samples_leaf     = trial.suggest_int('dt_min_samples_leaf', 2, 8)\n",
    "    dt_min_samples_split    = trial.suggest_int('dt_min_samples_split', 2, 8)\n",
    "\n",
    "    rf_max_depth        = trial.suggest_int('rf_max_depth', 20, 30)\n",
    "    rf_n_estimators     = trial.suggest_int('rf_n_estimators', 100, 200)\n",
    "\n",
    "    cat_iterations      = trial.suggest_int('cat_iterations', 80, 120)\n",
    "    cat_l2_leaf_reg     = trial.suggest_float('cat_l2_leaf_reg', 1, 5)\n",
    "    cat_learning_rate   = trial.suggest_float('cat_learning_rate', 0.1, 0.8)\n",
    "    cat_depth           = trial.suggest_int('cat_depth', 5, 10)\n",
    "\n",
    "    dt = DecisionTreeRegressor(max_depth=dt_max_depth,\n",
    "                               min_samples_leaf=dt_min_samples_leaf,\n",
    "                               min_samples_split=dt_min_samples_split)\n",
    "\n",
    "    rf = RandomForestRegressor(max_depth=rf_max_depth,\n",
    "                               n_estimators=rf_n_estimators,\n",
    "                               random_state=RANDOM_STATE, n_jobs=-1)\n",
    "\n",
    "    cb = CatBoostRegressor(iterations=cat_iterations,\n",
    "                           l2_leaf_reg=cat_l2_leaf_reg,\n",
    "                           learning_rate=cat_learning_rate,\n",
    "                           depth=cat_depth,\n",
    "                           random_state=RANDOM_STATE, silent=True)\n",
    "\n",
    "    # создание StackingRegressor\n",
    "    stacking_regressor = StackingRegressor(estimators=[('dt', dt), ('rf', rf)],\n",
    "                                           final_estimator=cb)\n",
    "\n",
    "    # обучение StackingRegressor\n",
    "    stacking_regressor.fit(X_train, y_train)\n",
    "\n",
    "    # вычисление MAPE на валидационной выборке\n",
    "    y_pred = stacking_regressor.predict(X_test)\n",
    "    mape = mean_absolute_percentage_error(y_test, y_pred)\n",
    "\n",
    "    return mape"
   ]
  },
  {
   "cell_type": "code",
   "execution_count": 10,
   "metadata": {},
   "outputs": [
    {
     "name": "stderr",
     "output_type": "stream",
     "text": [
      "[I 2023-07-30 12:03:29,091] A new study created in memory with name: no-name-b5940072-b30c-495c-87ca-0a3aaecb25f3\n",
      "[I 2023-07-30 12:07:05,193] Trial 0 finished with value: 3.7674780492476923 and parameters: {'dt_max_depth': 27, 'dt_min_samples_leaf': 8, 'dt_min_samples_split': 3, 'rf_max_depth': 25, 'rf_n_estimators': 174, 'cat_iterations': 96, 'cat_l2_leaf_reg': 3.731499858879426, 'cat_learning_rate': 0.3509595418014737, 'cat_depth': 10}. Best is trial 0 with value: 3.7674780492476923.\n",
      "[I 2023-07-30 12:11:03,751] Trial 1 finished with value: 3.832706652758578 and parameters: {'dt_max_depth': 22, 'dt_min_samples_leaf': 4, 'dt_min_samples_split': 3, 'rf_max_depth': 28, 'rf_n_estimators': 188, 'cat_iterations': 92, 'cat_l2_leaf_reg': 4.445185142865602, 'cat_learning_rate': 0.35408727462568146, 'cat_depth': 6}. Best is trial 0 with value: 3.7674780492476923.\n",
      "[I 2023-07-30 12:15:08,137] Trial 2 finished with value: 3.8069270282191154 and parameters: {'dt_max_depth': 26, 'dt_min_samples_leaf': 5, 'dt_min_samples_split': 6, 'rf_max_depth': 26, 'rf_n_estimators': 194, 'cat_iterations': 114, 'cat_l2_leaf_reg': 3.299575105323349, 'cat_learning_rate': 0.7297186220265198, 'cat_depth': 5}. Best is trial 0 with value: 3.7674780492476923.\n",
      "[I 2023-07-30 12:20:48,911] Trial 3 finished with value: 3.8381132147637675 and parameters: {'dt_max_depth': 27, 'dt_min_samples_leaf': 6, 'dt_min_samples_split': 3, 'rf_max_depth': 30, 'rf_n_estimators': 166, 'cat_iterations': 102, 'cat_l2_leaf_reg': 2.6995407036892622, 'cat_learning_rate': 0.15365261613557624, 'cat_depth': 6}. Best is trial 0 with value: 3.7674780492476923.\n",
      "[I 2023-07-30 12:25:12,345] Trial 4 finished with value: 3.8223931220173886 and parameters: {'dt_max_depth': 28, 'dt_min_samples_leaf': 6, 'dt_min_samples_split': 3, 'rf_max_depth': 29, 'rf_n_estimators': 160, 'cat_iterations': 91, 'cat_l2_leaf_reg': 4.961305473983046, 'cat_learning_rate': 0.6732243808044711, 'cat_depth': 10}. Best is trial 0 with value: 3.7674780492476923.\n"
     ]
    },
    {
     "name": "stdout",
     "output_type": "stream",
     "text": [
      "Лучшие гиперпараметры:\n",
      "{'dt_max_depth': 27, 'dt_min_samples_leaf': 8, 'dt_min_samples_split': 3, 'rf_max_depth': 25, 'rf_n_estimators': 174, 'cat_iterations': 96, 'cat_l2_leaf_reg': 3.731499858879426, 'cat_learning_rate': 0.3509595418014737, 'cat_depth': 10}\n"
     ]
    }
   ],
   "source": [
    "# запуск оптимизации Optuna\n",
    "study = optuna.create_study(direction='minimize')\n",
    "study.optimize(objective, n_trials=5)\n",
    "\n",
    "# получение лучших гиперпараметров из Optuna\n",
    "best_params             = study.best_params\n",
    "dt_max_depth            = best_params['dt_max_depth']\n",
    "dt_min_samples_leaf     = best_params['dt_min_samples_leaf']\n",
    "dt_min_samples_split    = best_params['dt_min_samples_split']\n",
    "rf_max_depth            = best_params['rf_max_depth']\n",
    "rf_n_estimators         = best_params['rf_n_estimators']\n",
    "cat_iterations          = best_params['cat_iterations']\n",
    "cat_l2_leaf_reg         = best_params['cat_l2_leaf_reg']\n",
    "cat_learning_rate       = best_params['cat_learning_rate']\n",
    "cat_depth               = best_params['cat_depth']\n",
    "\n",
    "# вывод лучших гиперпараметров\n",
    "print('Лучшие гиперпараметры:')\n",
    "print(best_params)"
   ]
  },
  {
   "cell_type": "markdown",
   "metadata": {},
   "source": [
    "# 5 Финальная модель"
   ]
  },
  {
   "cell_type": "markdown",
   "metadata": {},
   "source": [
    "Исходя из лучших параметров, создадим финальную модель StackingRegressor с лучшими гиперпараметрами"
   ]
  },
  {
   "cell_type": "code",
   "execution_count": 12,
   "metadata": {},
   "outputs": [
    {
     "name": "stdout",
     "output_type": "stream",
     "text": [
      "Лучший MAPE: 3.776\n",
      "Лучший MAE: 23.929\n"
     ]
    }
   ],
   "source": [
    "dt_best = DecisionTreeRegressor(\n",
    "    max_depth=dt_max_depth,\n",
    "    min_samples_leaf=dt_min_samples_leaf,\n",
    "    min_samples_split=dt_min_samples_split)\n",
    "\n",
    "rf_best = RandomForestRegressor(\n",
    "    max_depth=rf_max_depth,\n",
    "    n_estimators=rf_n_estimators,\n",
    "    random_state=RANDOM_STATE, n_jobs=-1)\n",
    "\n",
    "cb_best = CatBoostRegressor(\n",
    "    iterations=cat_iterations,\n",
    "    l2_leaf_reg=cat_l2_leaf_reg,\n",
    "    learning_rate=cat_learning_rate,\n",
    "    depth=cat_depth,\n",
    "    random_state=RANDOM_STATE, silent=True)\n",
    "\n",
    "stacking_regressor_best = StackingRegressor(\n",
    "    estimators=[('dt', dt_best), ('rf', rf_best)],\n",
    "    final_estimator=cb_best)\n",
    "\n",
    "# обучение финального StackingRegressor с лучшими гиперпараметрами\n",
    "stacking_regressor_best.fit(X_train, y_train)\n",
    "\n",
    "# вычисление MAPE и MAE на тестовой выборке\n",
    "y_pred_best = stacking_regressor_best.predict(X_test)\n",
    "mape_best = mean_absolute_percentage_error(y_test, y_pred_best)\n",
    "mae_best = mean_absolute_error(y_test, y_pred_best)\n",
    "\n",
    "# вывод лучших метрик оценки\n",
    "print('Лучший MAPE:', mape_best.round(3))\n",
    "print('Лучший MAE:', mae_best.round(3))\n",
    "\n",
    "# сохранение лучшей модели в файл pickle\n",
    "with open('../models/StackingRegressor_model.pkl', 'wb') as file:\n",
    "    pickle.dump(stacking_regressor_best, file)"
   ]
  },
  {
   "cell_type": "code",
   "execution_count": 13,
   "metadata": {},
   "outputs": [
    {
     "name": "stdout",
     "output_type": "stream",
     "text": [
      "Удалось улучшить качество предсказания после поиска гиперпараметров модели на 5.52%\n"
     ]
    }
   ],
   "source": [
    "improvement_ratio       = mape_best / best_model['MAPE']\n",
    "improvement_percentage  = (improvement_ratio - 1) * 100\n",
    "\n",
    "print(f'Удалось улучшить качество предсказания после поиска гиперпараметров модели на {-improvement_percentage.round(2)}%')"
   ]
  },
  {
   "cell_type": "markdown",
   "metadata": {},
   "source": [
    "Модель готова, обучена на оптимальных параметрах и сохранена в вде pickle файла.\n",
    "\n",
    "Готовая модель предсказывает стоимость недвижимости с погрешностью в 4%, то есть ошибается примерно на 24$. Данный показатель можно считать очень хорошим."
   ]
  }
 ],
 "metadata": {
  "kernelspec": {
   "display_name": "Python 3",
   "language": "python",
   "name": "python3"
  },
  "language_info": {
   "codemirror_mode": {
    "name": "ipython",
    "version": 3
   },
   "file_extension": ".py",
   "mimetype": "text/x-python",
   "name": "python",
   "nbconvert_exporter": "python",
   "pygments_lexer": "ipython3",
   "version": "3.9.10"
  },
  "orig_nbformat": 4
 },
 "nbformat": 4,
 "nbformat_minor": 2
}
