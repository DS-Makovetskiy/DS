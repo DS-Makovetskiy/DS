{
 "cells": [
  {
   "cell_type": "code",
   "execution_count": 19,
   "metadata": {},
   "outputs": [],
   "source": [
    "import pandas as pd\n",
    "import gzip\n",
    "import os\n",
    "import json\n",
    "\n",
    "def read_gzipped_json(filepath):\n",
    "    with gzip.open(filepath, 'rt', encoding='utf-8') as f:\n",
    "        return json.load(f)\n",
    "\n",
    "def read_and_combine_files(directory, file_pattern):\n",
    "    all_data = []\n",
    "    for filename in os.listdir(directory):\n",
    "        if filename.startswith(file_pattern) and filename.endswith('.json.gz'):\n",
    "            filepath = os.path.join(directory, filename)\n",
    "            data = read_gzipped_json(filepath)\n",
    "            all_data.extend(data)\n",
    "    return pd.DataFrame(all_data)\n",
    "\n",
    "# Укажите директорию и шаблон имени файла\n",
    "directory = 'AppStoreData'\n",
    "file_pattern = 'AppStoreApps_TOP_PAID_IPAD_ru'\n",
    "\n",
    "# Чтение и объединение данных\n",
    "combined_df = read_and_combine_files(directory, file_pattern)\n",
    "\n",
    "# # Вывод информации о результатах\n",
    "# display(combined_df.info())\n",
    "# display(combined_df.head())\n",
    "\n",
    "combined_df.to_csv(f'{file_pattern}.csv', index=False)"
   ]
  },
  {
   "cell_type": "code",
   "execution_count": 2,
   "metadata": {},
   "outputs": [],
   "source": [
    "app_files = ['AppStoreApps_NEW_FREE_IOS_en', 'AppStoreApps_NEW_IOS_en', 'AppStoreApps_NEW_PAID_IOS_en', \n",
    "                'AppStoreApps_TOP_FREE_IOS_en', 'AppStoreApps_TOP_FREE_IPAD_en', 'AppStoreApps_TOP_GROSSING_IOS_en', \n",
    "                'AppStoreApps_TOP_GROSSING_IPAD_en', 'AppStoreApps_TOP_PAID_IOS_en', 'AppStoreApps_TOP_PAID_IPAD_en', \n",
    "                'AppStoreApps_NEW_FREE_IOS_ru', 'AppStoreApps_NEW_IOS_ru', 'AppStoreApps_NEW_PAID_IOS_ru', \n",
    "                'AppStoreApps_TOP_FREE_IPAD_ru', 'AppStoreApps_TOP_FREE_IOS_ru', 'AppStoreApps_TOP_GROSSING_IOS_ru', \n",
    "                'AppStoreApps_TOP_GROSSING_IPAD_ru', 'AppStoreApps_TOP_PAID_IOS_ru', 'AppStoreApps_TOP_PAID_IPAD_ru']"
   ]
  },
  {
   "cell_type": "code",
   "execution_count": 3,
   "metadata": {},
   "outputs": [
    {
     "name": "stdout",
     "output_type": "stream",
     "text": [
      "Data saved to AppStoreApps_NEW_FREE_IOS_en.json\n",
      "Data saved to AppStoreApps_NEW_IOS_en.json\n",
      "Data saved to AppStoreApps_NEW_PAID_IOS_en.json\n",
      "Data saved to AppStoreApps_TOP_FREE_IOS_en.json\n",
      "Data saved to AppStoreApps_TOP_FREE_IPAD_en.json\n",
      "Data saved to AppStoreApps_TOP_GROSSING_IOS_en.json\n",
      "Data saved to AppStoreApps_TOP_GROSSING_IPAD_en.json\n",
      "Data saved to AppStoreApps_TOP_PAID_IOS_en.json\n",
      "Data saved to AppStoreApps_TOP_PAID_IPAD_en.json\n",
      "Data saved to AppStoreApps_NEW_FREE_IOS_ru.json\n",
      "Data saved to AppStoreApps_NEW_IOS_ru.json\n",
      "Data saved to AppStoreApps_NEW_PAID_IOS_ru.json\n",
      "Data saved to AppStoreApps_TOP_FREE_IPAD_ru.json\n",
      "Data saved to AppStoreApps_TOP_FREE_IOS_ru.json\n",
      "Data saved to AppStoreApps_TOP_GROSSING_IOS_ru.json\n",
      "Data saved to AppStoreApps_TOP_GROSSING_IPAD_ru.json\n",
      "Data saved to AppStoreApps_TOP_PAID_IOS_ru.json\n",
      "Data saved to AppStoreApps_TOP_PAID_IPAD_ru.json\n"
     ]
    }
   ],
   "source": [
    "import gzip\n",
    "import os\n",
    "import json\n",
    "\n",
    "def read_gzipped_json(filepath):\n",
    "    with gzip.open(filepath, 'rt', encoding='utf-8') as f:\n",
    "        return json.load(f)\n",
    "\n",
    "def read_and_combine_files(directory, file_pattern):\n",
    "    all_data = []\n",
    "    for filename in os.listdir(directory):\n",
    "        if filename.startswith(file_pattern) and filename.endswith('.json.gz'):\n",
    "            filepath = os.path.join(directory, filename)\n",
    "            data = read_gzipped_json(filepath)\n",
    "            all_data.extend(data)\n",
    "    return all_data\n",
    "\n",
    "for file in app_files:\n",
    "    # Укажите директорию и шаблон имени файла\n",
    "    directory = 'AppStoreData'\n",
    "    file_pattern = file\n",
    "\n",
    "    # Чтение и объединение данных\n",
    "    combined_data = read_and_combine_files(directory, file_pattern)\n",
    "\n",
    "    # Сохранение объединённых данных в JSON файл\n",
    "    output_json_path = f'{file_pattern}.json'\n",
    "    with open(output_json_path, 'w', encoding='utf-8') as f:\n",
    "        json.dump(combined_data, f, ensure_ascii=False, indent=4)\n",
    "\n",
    "    print(f'Data saved to {output_json_path}')"
   ]
  }
 ],
 "metadata": {
  "kernelspec": {
   "display_name": "Python 3",
   "language": "python",
   "name": "python3"
  },
  "language_info": {
   "codemirror_mode": {
    "name": "ipython",
    "version": 3
   },
   "file_extension": ".py",
   "mimetype": "text/x-python",
   "name": "python",
   "nbconvert_exporter": "python",
   "pygments_lexer": "ipython3",
   "version": "3.9.10"
  }
 },
 "nbformat": 4,
 "nbformat_minor": 2
}
