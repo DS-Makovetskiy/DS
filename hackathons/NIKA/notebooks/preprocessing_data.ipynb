{
 "cells": [
  {
   "cell_type": "code",
   "execution_count": null,
   "metadata": {},
   "outputs": [],
   "source": [
    "import pandas as pd\n",
    "import numpy as np\n",
    "import json\n",
    "import ast\n",
    "import seaborn as sns\n",
    "import matplotlib.pyplot as plt"
   ]
  },
  {
   "cell_type": "markdown",
   "metadata": {},
   "source": [
    "# Объединение данных"
   ]
  },
  {
   "cell_type": "code",
   "execution_count": null,
   "metadata": {},
   "outputs": [],
   "source": [
    "app_files = ['AppStoreApps_NEW_FREE_IOS_en', 'AppStoreApps_NEW_IOS_en', 'AppStoreApps_NEW_PAID_IOS_en', \n",
    "               'AppStoreApps_TOP_FREE_IOS_en', 'AppStoreApps_TOP_FREE_IPAD_en', 'AppStoreApps_TOP_GROSSING_IOS_en', \n",
    "               'AppStoreApps_TOP_GROSSING_IPAD_en', 'AppStoreApps_TOP_PAID_IOS_en', 'AppStoreApps_TOP_PAID_IPAD_en', \n",
    "               'AppStoreApps_NEW_FREE_IOS_ru', 'AppStoreApps_NEW_IOS_ru', 'AppStoreApps_NEW_PAID_IOS_ru', \n",
    "               'AppStoreApps_TOP_FREE_IPAD_ru', 'AppStoreApps_TOP_FREE_IOS_ru', 'AppStoreApps_TOP_GROSSING_IOS_ru', \n",
    "               'AppStoreApps_TOP_GROSSING_IPAD_ru', 'AppStoreApps_TOP_PAID_IOS_ru', 'AppStoreApps_TOP_PAID_IPAD_ru']"
   ]
  },
  {
   "cell_type": "code",
   "execution_count": null,
   "metadata": {},
   "outputs": [],
   "source": [
    "with open('AppStoreApps_NEW_FREE_IOS_en.json', 'r', encoding='utf-8') as file:\n",
    "    data = json.load(file)\n",
    "AppStoreApps_NEW_FREE_IOS_en        = pd.json_normalize(data)\n",
    "\n",
    "with open('AppStoreApps_NEW_IOS_en.json', 'r', encoding='utf-8') as file:\n",
    "    data = json.load(file)\n",
    "AppStoreApps_NEW_IOS_en             = pd.json_normalize(data)\n",
    "\n",
    "with open('AppStoreApps_NEW_PAID_IOS_en.json', 'r', encoding='utf-8') as file:\n",
    "    data = json.load(file)\n",
    "AppStoreApps_NEW_PAID_IOS_en        = pd.json_normalize(data)\n",
    "\n",
    "with open('AppStoreApps_TOP_FREE_IOS_en.json', 'r', encoding='utf-8') as file:\n",
    "    data = json.load(file)\n",
    "AppStoreApps_TOP_FREE_IOS_en        = pd.json_normalize(data)\n",
    "\n",
    "with open('AppStoreApps_TOP_FREE_IPAD_en.json', 'r', encoding='utf-8') as file:\n",
    "    data = json.load(file)\n",
    "AppStoreApps_TOP_FREE_IPAD_en       = pd.json_normalize(data)\n",
    "\n",
    "with open('AppStoreApps_TOP_GROSSING_IOS_en.json', 'r', encoding='utf-8') as file:\n",
    "    data = json.load(file)\n",
    "AppStoreApps_TOP_GROSSING_IOS_en    = pd.json_normalize(data)\n",
    "\n",
    "with open('AppStoreApps_TOP_GROSSING_IPAD_en.json', 'r', encoding='utf-8') as file:\n",
    "    data = json.load(file)\n",
    "AppStoreApps_TOP_GROSSING_IPAD_en   = pd.json_normalize(data)\n",
    "\n",
    "with open('AppStoreApps_TOP_PAID_IOS_en.json', 'r', encoding='utf-8') as file:\n",
    "    data = json.load(file)\n",
    "AppStoreApps_TOP_PAID_IOS_en        = pd.json_normalize(data)\n",
    "\n",
    "with open('AppStoreApps_TOP_PAID_IPAD_en.json', 'r', encoding='utf-8') as file:\n",
    "    data = json.load(file)\n",
    "AppStoreApps_TOP_PAID_IPAD_en       = pd.json_normalize(data)\n",
    "\n",
    "\n",
    "\n",
    "with open('AppStoreApps_NEW_FREE_IOS_ru.json', 'r', encoding='utf-8') as file:\n",
    "    data = json.load(file)\n",
    "AppStoreApps_NEW_FREE_IOS_ru        = pd.json_normalize(data)\n",
    "\n",
    "with open('AppStoreApps_NEW_IOS_ru.json', 'r', encoding='utf-8') as file:\n",
    "    data = json.load(file)\n",
    "AppStoreApps_NEW_IOS_ru             = pd.json_normalize(data)\n",
    "\n",
    "with open('AppStoreApps_NEW_PAID_IOS_ru.json', 'r', encoding='utf-8') as file:\n",
    "    data = json.load(file)\n",
    "AppStoreApps_NEW_PAID_IOS_ru        = pd.json_normalize(data)\n",
    "\n",
    "with open('AppStoreApps_TOP_FREE_IPAD_ru.json', 'r', encoding='utf-8') as file:\n",
    "    data = json.load(file)\n",
    "AppStoreApps_TOP_FREE_IPAD_ru       = pd.json_normalize(data)\n",
    "\n",
    "with open('AppStoreApps_TOP_FREE_IOS_ru.json', 'r', encoding='utf-8') as file:\n",
    "    data = json.load(file)\n",
    "AppStoreApps_TOP_FREE_IOS_ru        = pd.json_normalize(data)\n",
    "\n",
    "with open('AppStoreApps_TOP_GROSSING_IOS_ru.json', 'r', encoding='utf-8') as file:\n",
    "    data = json.load(file)\n",
    "AppStoreApps_TOP_GROSSING_IOS_ru    = pd.json_normalize(data)\n",
    "\n",
    "with open('AppStoreApps_TOP_GROSSING_IPAD_ru.json', 'r', encoding='utf-8') as file:\n",
    "    data = json.load(file)\n",
    "AppStoreApps_TOP_GROSSING_IPAD_ru   = pd.json_normalize(data)\n",
    "\n",
    "with open('AppStoreApps_TOP_PAID_IOS_ru.json', 'r', encoding='utf-8') as file:\n",
    "    data = json.load(file)\n",
    "AppStoreApps_TOP_PAID_IOS_ru        = pd.json_normalize(data)\n",
    "\n",
    "with open('AppStoreApps_TOP_PAID_IPAD_ru.json', 'r', encoding='utf-8') as file:\n",
    "    data = json.load(file)\n",
    "AppStoreApps_TOP_PAID_IPAD_ru       = pd.json_normalize(data)"
   ]
  },
  {
   "cell_type": "code",
   "execution_count": null,
   "metadata": {},
   "outputs": [],
   "source": [
    "with open('GooglePlayApps_GROSSING_en.json', 'r', encoding='utf-8') as file:\n",
    "    data = json.load(file)\n",
    "GooglePlayApps_GROSSING_en       = pd.json_normalize(data)\n",
    "\n",
    "with open('GooglePlayApps_TOP_FREE_en.json', 'r', encoding='utf-8') as file:\n",
    "    data = json.load(file)\n",
    "GooglePlayApps_TOP_FREE_en       = pd.json_normalize(data)\n",
    "\n",
    "with open('GooglePlayApps_TOP_PAID_en.json', 'r', encoding='utf-8') as file:\n",
    "    data = json.load(file)\n",
    "GooglePlayApps_TOP_PAID_en       = pd.json_normalize(data)\n",
    "\n",
    "\n",
    "\n",
    "with open('GooglePlayApps_GROSSING_ru.json', 'r', encoding='utf-8') as file:\n",
    "    data = json.load(file)\n",
    "GooglePlayApps_GROSSING_ru       = pd.json_normalize(data)\n",
    "\n",
    "with open('GooglePlayApps_TOP_FREE_ru.json', 'r', encoding='utf-8') as file:\n",
    "    data = json.load(file)\n",
    "GooglePlayApps_TOP_FREE_ru       = pd.json_normalize(data)\n",
    "\n",
    "with open('GooglePlayApps_TOP_PAID_ru.json', 'r', encoding='utf-8') as file:\n",
    "    data = json.load(file)\n",
    "GooglePlayApps_TOP_PAID_ru       = pd.json_normalize(data)"
   ]
  },
  {
   "cell_type": "code",
   "execution_count": null,
   "metadata": {},
   "outputs": [],
   "source": [
    "# AppStoreApps_NEW_FREE_IOS_en = pd.read_csv('AppStoreApps_NEW_FREE_IOS_en.csv')\n",
    "# AppStoreApps_NEW_IOS_en = pd.read_csv('AppStoreApps_NEW_FREE_IOS_en.csv')\n",
    "# AppStoreApps_NEW_PAID_IOS_en = pd.read_csv('AppStoreApps_NEW_FREE_IOS_en.csv')\n",
    "# AppStoreApps_TOP_FREE_IOS_en = pd.read_csv('AppStoreApps_NEW_FREE_IOS_en.csv')\n",
    "# AppStoreApps_TOP_FREE_IPAD_en = pd.read_csv('AppStoreApps_NEW_FREE_IOS_en.csv')\n",
    "# AppStoreApps_TOP_GROSSING_IOS_en = pd.read_csv('AppStoreApps_NEW_FREE_IOS_en.csv')\n",
    "# AppStoreApps_TOP_GROSSING_IPAD_en = pd.read_csv('AppStoreApps_NEW_FREE_IOS_en.csv')\n",
    "# AppStoreApps_TOP_PAID_IOS_en = pd.read_csv('AppStoreApps_NEW_FREE_IOS_en.csv')\n",
    "# AppStoreApps_TOP_PAID_IPAD_en = pd.read_csv('AppStoreApps_NEW_FREE_IOS_en.csv')\n",
    "\n",
    "# AppStoreApps_NEW_FREE_IOS_ru = pd.read_csv('AppStoreApps_NEW_FREE_IOS_en.csv')\n",
    "# AppStoreApps_NEW_IOS_ru = pd.read_csv('AppStoreApps_NEW_FREE_IOS_en.csv')\n",
    "# AppStoreApps_NEW_PAID_IOS_ru = pd.read_csv('AppStoreApps_NEW_FREE_IOS_en.csv')\n",
    "# AppStoreApps_TOP_FREE_IPAD_ru = pd.read_csv('AppStoreApps_NEW_FREE_IOS_en.csv')\n",
    "# AppStoreApps_TOP_FREE_IOS_ru = pd.read_csv('AppStoreApps_NEW_FREE_IOS_en.csv')\n",
    "# AppStoreApps_TOP_GROSSING_IOS_ru = pd.read_csv('AppStoreApps_NEW_FREE_IOS_en.csv')\n",
    "# AppStoreApps_TOP_GROSSING_IPAD_ru = pd.read_csv('AppStoreApps_NEW_FREE_IOS_en.csv')\n",
    "# AppStoreApps_TOP_PAID_IOS_ru = pd.read_csv('AppStoreApps_NEW_FREE_IOS_en.csv')\n",
    "# AppStoreApps_TOP_PAID_IPAD_ru = pd.read_csv('AppStoreApps_NEW_FREE_IOS_en.csv')"
   ]
  },
  {
   "cell_type": "code",
   "execution_count": null,
   "metadata": {},
   "outputs": [],
   "source": [
    "AppStoreApps_NEW_FREE_IOS_en['collection'] = 'NEW_FREE_IOS'\n",
    "AppStoreApps_NEW_FREE_IOS_en['lang'] = 'en'\n",
    "AppStoreApps_NEW_IOS_en['collection'] = 'NEW_IOS'\n",
    "AppStoreApps_NEW_IOS_en['lang'] = 'en'\n",
    "AppStoreApps_NEW_PAID_IOS_en['collection'] = 'NEW_PAID_IOS'\n",
    "AppStoreApps_NEW_PAID_IOS_en['lang'] = 'en'\n",
    "AppStoreApps_TOP_FREE_IOS_en['collection'] = 'TOP_FREE_IOS'\n",
    "AppStoreApps_TOP_FREE_IOS_en['lang'] = 'en'\n",
    "AppStoreApps_TOP_FREE_IPAD_en['collection'] = 'TOP_FREE_IPAD'\n",
    "AppStoreApps_TOP_FREE_IPAD_en['lang'] = 'en'\n",
    "AppStoreApps_TOP_GROSSING_IOS_en['collection'] = 'TOP_GROSSING_IOS'\n",
    "AppStoreApps_TOP_GROSSING_IOS_en['lang'] = 'en'\n",
    "AppStoreApps_TOP_GROSSING_IPAD_en['collection'] = 'TOP_GROSSING_IPAD'\n",
    "AppStoreApps_TOP_GROSSING_IPAD_en['lang'] = 'en'\n",
    "AppStoreApps_TOP_PAID_IOS_en['collection'] = 'TOP_PAID_IOS'\n",
    "AppStoreApps_TOP_PAID_IOS_en['lang'] = 'en'\n",
    "AppStoreApps_TOP_PAID_IPAD_en['collection'] = 'TOP_PAID_IPAD'\n",
    "AppStoreApps_TOP_PAID_IPAD_en['lang'] = 'en'\n",
    "\n",
    "AppStoreApps_NEW_FREE_IOS_ru['collection'] = 'NEW_FREE_IOS'\n",
    "AppStoreApps_NEW_FREE_IOS_ru['lang'] = 'ru'\n",
    "AppStoreApps_NEW_IOS_ru['collection'] = 'NEW_IOS'\n",
    "AppStoreApps_NEW_IOS_ru['lang'] = 'ru'\n",
    "AppStoreApps_NEW_PAID_IOS_ru['collection'] = 'NEW_PAID_IOS'\n",
    "AppStoreApps_NEW_PAID_IOS_ru['lang'] = 'ru'\n",
    "AppStoreApps_TOP_FREE_IPAD_ru['collection'] = 'TOP_FREE_IPAD'\n",
    "AppStoreApps_TOP_FREE_IPAD_ru['lang'] = 'ru'\n",
    "AppStoreApps_TOP_FREE_IOS_ru['collection'] = 'TOP_FREE_IOS'\n",
    "AppStoreApps_TOP_FREE_IOS_ru['lang'] = 'ru'\n",
    "AppStoreApps_TOP_GROSSING_IOS_ru['collection'] = 'TOP_GROSSING_IOS'\n",
    "AppStoreApps_TOP_GROSSING_IOS_ru['lang'] = 'ru'\n",
    "AppStoreApps_TOP_GROSSING_IPAD_ru['collection'] = 'TOP_GROSSING_IPAD'\n",
    "AppStoreApps_TOP_GROSSING_IPAD_ru['lang'] = 'ru'\n",
    "AppStoreApps_TOP_PAID_IOS_ru['collection'] = 'TOP_PAID_IOS'\n",
    "AppStoreApps_TOP_PAID_IOS_ru['lang'] = 'ru'\n",
    "AppStoreApps_TOP_PAID_IPAD_ru['collection'] = 'TOP_PAID_IPAD'\n",
    "AppStoreApps_TOP_PAID_IPAD_ru['lang'] = 'ru'\n",
    "\n",
    "\n",
    "\n",
    "GooglePlayApps_GROSSING_en['collection'] = 'GROSSING'\n",
    "GooglePlayApps_GROSSING_en['lang'] = 'en'\n",
    "GooglePlayApps_TOP_FREE_en['collection'] = 'TOP_FREE'\n",
    "GooglePlayApps_TOP_FREE_en['lang'] = 'en'\n",
    "GooglePlayApps_TOP_PAID_en['collection'] = 'TOP_PAID'\n",
    "GooglePlayApps_TOP_PAID_en['lang'] = 'en'\n",
    "\n",
    "GooglePlayApps_GROSSING_ru['collection'] = 'GROSSING'\n",
    "GooglePlayApps_GROSSING_ru['lang'] = 'ru'\n",
    "GooglePlayApps_TOP_FREE_ru['collection'] = 'TOP_FREE'\n",
    "GooglePlayApps_TOP_FREE_ru['lang'] = 'ru'\n",
    "GooglePlayApps_TOP_PAID_ru['collection'] = 'TOP_PAID'\n",
    "GooglePlayApps_TOP_PAID_ru['lang'] = 'ru'"
   ]
  },
  {
   "cell_type": "code",
   "execution_count": null,
   "metadata": {},
   "outputs": [],
   "source": [
    "GooglePlayApps_GROSSING_en.shape, GooglePlayApps_TOP_FREE_en.shape"
   ]
  },
  {
   "cell_type": "code",
   "execution_count": null,
   "metadata": {},
   "outputs": [],
   "source": [
    "AppStoreApps = pd.concat([\n",
    "    AppStoreApps_NEW_FREE_IOS_en, \n",
    "    AppStoreApps_NEW_FREE_IOS_ru, \n",
    "    AppStoreApps_NEW_IOS_en, \n",
    "    AppStoreApps_NEW_IOS_ru, \n",
    "    AppStoreApps_NEW_PAID_IOS_en, \n",
    "    AppStoreApps_NEW_PAID_IOS_ru, \n",
    "    AppStoreApps_TOP_FREE_IOS_en, \n",
    "    AppStoreApps_TOP_FREE_IPAD_en, \n",
    "    AppStoreApps_TOP_FREE_IPAD_ru, \n",
    "    AppStoreApps_TOP_FREE_IOS_ru, \n",
    "    AppStoreApps_TOP_GROSSING_IOS_en, \n",
    "    AppStoreApps_TOP_GROSSING_IOS_ru, \n",
    "    AppStoreApps_TOP_GROSSING_IPAD_en, \n",
    "    AppStoreApps_TOP_GROSSING_IPAD_ru, \n",
    "    AppStoreApps_TOP_PAID_IOS_en, \n",
    "    AppStoreApps_TOP_PAID_IOS_ru, \n",
    "    AppStoreApps_TOP_PAID_IPAD_en, \n",
    "    AppStoreApps_TOP_PAID_IPAD_ru])\n",
    "\n",
    "\n",
    "GooglePlayApps = pd.concat(\n",
    "    [GooglePlayApps_GROSSING_en,\n",
    "     GooglePlayApps_GROSSING_ru,\n",
    "     GooglePlayApps_TOP_FREE_en,\n",
    "     GooglePlayApps_TOP_FREE_ru,\n",
    "     GooglePlayApps_TOP_PAID_en,\n",
    "     GooglePlayApps_TOP_PAID_ru])"
   ]
  },
  {
   "cell_type": "code",
   "execution_count": null,
   "metadata": {},
   "outputs": [],
   "source": [
    "AppStoreApps.shape, GooglePlayApps.shape"
   ]
  },
  {
   "cell_type": "code",
   "execution_count": null,
   "metadata": {},
   "outputs": [],
   "source": [
    "AppStoreApps.to_csv('AppStoreApps_full.csv', index=False)\n",
    "GooglePlayApps.to_csv('GooglePlayApps_full.csv')"
   ]
  },
  {
   "cell_type": "markdown",
   "metadata": {},
   "source": [
    "# Удаление дубликатов"
   ]
  },
  {
   "cell_type": "code",
   "execution_count": null,
   "metadata": {},
   "outputs": [],
   "source": [
    "AppStoreApps_full    = pd.read_csv('AppStoreApps_full.csv', low_memory=False)\n",
    "GooglePlayApps_full  = pd.read_csv('GooglePlayApps_full.csv')"
   ]
  },
  {
   "cell_type": "code",
   "execution_count": null,
   "metadata": {},
   "outputs": [],
   "source": [
    "AppStoreApps_full.shape"
   ]
  },
  {
   "cell_type": "code",
   "execution_count": null,
   "metadata": {},
   "outputs": [],
   "source": [
    "AppStoreApps = AppStoreApps_full[['title', 'genres', 'primaryGenre', 'contentRating', 'languages', 'size', \n",
    "                                    'requiredOsVersion', 'released', 'updated', 'version', 'price', 'currency', \n",
    "                                    'free', 'score', 'reviews', 'currentVersionScore', 'currentVersionReviews', \n",
    "                                    'collection', 'lang']]"
   ]
  },
  {
   "cell_type": "code",
   "execution_count": null,
   "metadata": {},
   "outputs": [],
   "source": [
    "AppStoreApps = AppStoreApps.drop_duplicates()"
   ]
  },
  {
   "cell_type": "code",
   "execution_count": null,
   "metadata": {},
   "outputs": [],
   "source": [
    "AppStoreApps.shape"
   ]
  },
  {
   "cell_type": "code",
   "execution_count": null,
   "metadata": {},
   "outputs": [],
   "source": [
    "AppStoreApps.to_csv('AppStoreApps.csv', index=False)"
   ]
  },
  {
   "cell_type": "code",
   "execution_count": null,
   "metadata": {},
   "outputs": [],
   "source": [
    "GooglePlayApps_full.head()"
   ]
  },
  {
   "cell_type": "code",
   "execution_count": null,
   "metadata": {},
   "outputs": [],
   "source": [
    "GooglePlayApps = GooglePlayApps_full[['title', 'installs', 'score', 'scoreText', 'ratings', 'reviews', 'price', 'free', \n",
    "                                        'currency', 'priceText', 'available', 'offersIAP', 'IAPRange', 'genre', 'genreId',\n",
    "                                        'categories', 'contentRating', 'contentRatingDescription', 'adSupported', 'released', \n",
    "                                        'updated', 'version', 'preregister', 'earlyAccessEnabled', 'isAvailableInPlayPass',\n",
    "                                        'histogram.1', 'histogram.2', 'histogram.3', 'histogram.4', 'histogram.5', 'originalPrice',\n",
    "                                        'discountEndDate', 'collection', 'lang']]"
   ]
  },
  {
   "cell_type": "code",
   "execution_count": null,
   "metadata": {},
   "outputs": [],
   "source": [
    "GooglePlayApps.shape"
   ]
  },
  {
   "cell_type": "code",
   "execution_count": null,
   "metadata": {},
   "outputs": [],
   "source": [
    "GooglePlayApps = GooglePlayApps.drop_duplicates()"
   ]
  },
  {
   "cell_type": "code",
   "execution_count": null,
   "metadata": {},
   "outputs": [],
   "source": [
    "GooglePlayApps.shape"
   ]
  },
  {
   "cell_type": "code",
   "execution_count": null,
   "metadata": {},
   "outputs": [],
   "source": [
    "GooglePlayApps.to_csv('GooglePlayApps.csv')"
   ]
  }
 ],
 "metadata": {
  "kernelspec": {
   "display_name": "Python 3",
   "language": "python",
   "name": "python3"
  },
  "language_info": {
   "name": "python",
   "version": "3.9.10"
  }
 },
 "nbformat": 4,
 "nbformat_minor": 2
}
