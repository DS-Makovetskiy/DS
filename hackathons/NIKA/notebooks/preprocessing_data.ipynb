{
 "cells": [
  {
   "cell_type": "code",
   "execution_count": 1,
   "metadata": {},
   "outputs": [],
   "source": [
    "import pandas as pd\n",
    "import numpy as np\n",
    "import json\n",
    "import ast\n",
    "import seaborn as sns\n",
    "import matplotlib.pyplot as plt"
   ]
  },
  {
   "cell_type": "markdown",
   "metadata": {},
   "source": [
    "# Объединение данных"
   ]
  },
  {
   "cell_type": "markdown",
   "metadata": {},
   "source": [
    "***"
   ]
  },
  {
   "cell_type": "code",
   "execution_count": 2,
   "metadata": {},
   "outputs": [],
   "source": [
    "import os\n",
    "import json\n",
    "\n",
    "def get_file_prefixes(data_path):\n",
    "    files = os.listdir(data_path)\n",
    "    prefixes = set()\n",
    "    for file in files:\n",
    "        if file.endswith(\".json\"):\n",
    "            prefix = \"_\".join(file.split(\"_\")[:-1])\n",
    "            prefixes.add(prefix)\n",
    "    return prefixes\n",
    "\n",
    "def merge_files(prefix, data_path):\n",
    "    merged_data = []\n",
    "    for file in os.listdir(data_path):\n",
    "        if file.startswith(prefix) and file.endswith(\".json\"):\n",
    "            with open(os.path.join(data_path, file), 'r', encoding='utf-8') as f:\n",
    "                data = json.load(f)\n",
    "                merged_data.extend(data)\n",
    "    return merged_data\n",
    "\n",
    "def save_merged_file(prefix, data, data_path):\n",
    "    output_file = os.path.join(data_path, f\"{prefix}_full.json\")\n",
    "    with open(output_file, 'w', encoding='utf-8') as f:\n",
    "        json.dump(data, f, ensure_ascii=False, indent=4)"
   ]
  },
  {
   "cell_type": "code",
   "execution_count": 5,
   "metadata": {},
   "outputs": [],
   "source": [
    "def main():\n",
    "    data_path = \"../data\"  # Укажите путь к папке data\n",
    "    prefixes = get_file_prefixes(data_path)\n",
    "    for prefix in prefixes:\n",
    "        merged_data = merge_files(prefix, data_path)\n",
    "        save_merged_file(prefix, merged_data, data_path)\n",
    "\n",
    "main()"
   ]
  },
  {
   "cell_type": "code",
   "execution_count": 6,
   "metadata": {},
   "outputs": [
    {
     "name": "stdout",
     "output_type": "stream",
     "text": [
      "DataFrame 'AppStoreApps_NEW_FREE_IOS_ru_full' создан с размером (45726, 33)\n",
      "DataFrame 'AppStoreApps_NEW_FREE_IOS_ru_full_2' создан с размером (45726, 33)\n",
      "DataFrame 'AppStoreApps_NEW_IOS_full' создан с размером (46630, 33)\n",
      "DataFrame 'AppStoreApps_NEW_IOS_full_2' создан с размером (2000, 33)\n",
      "DataFrame 'AppStoreApps_NEW_IOS_full_3' создан с размером (46630, 33)\n",
      "DataFrame 'AppStoreApps_NEW_PAID_IOS_full' создан с размером (44753, 33)\n",
      "DataFrame 'AppStoreApps_NEW_PAID_IOS_full_2' создан с размером (1800, 33)\n",
      "DataFrame 'AppStoreApps_NEW_PAID_IOS_full_3' создан с размером (44753, 33)\n",
      "DataFrame 'AppStoreApps_TOP_FREE_IOS_full' создан с размером (107441, 33)\n",
      "DataFrame 'AppStoreApps_TOP_FREE_IPAD_full' создан с размером (112578, 33)\n",
      "DataFrame 'AppStoreApps_TOP_GROSSING_IOS_full' создан с размером (112322, 33)\n",
      "DataFrame 'AppStoreApps_TOP_GROSSING_IOS_full_2' создан с размером (224644, 33)\n",
      "DataFrame 'AppStoreApps_TOP_GROSSING_IOS_ru_full' создан с размером (112322, 33)\n",
      "DataFrame 'AppStoreApps_TOP_GROSSING_IOS_ru_full_2' создан с размером (112322, 33)\n",
      "DataFrame 'AppStoreApps_TOP_GROSSING_IPAD_ru_full' создан с размером (113794, 33)\n",
      "DataFrame 'AppStoreApps_TOP_GROSSING_IPAD_ru_full_2' создан с размером (113794, 33)\n",
      "DataFrame 'AppStoreApps_TOP_PAID_IOS_ru_full' создан с размером (116107, 33)\n",
      "DataFrame 'AppStoreApps_TOP_PAID_IOS_ru_full_2' создан с размером (116107, 33)\n",
      "DataFrame 'AppStoreApps_TOP_PAID_IPAD_ru_full' создан с размером (115018, 33)\n",
      "DataFrame 'AppStoreApps_TOP_PAID_IPAD_ru_full_2' создан с размером (115018, 33)\n",
      "Список всех DataFrame: ['AppStoreApps_NEW_FREE_IOS_ru_full', 'AppStoreApps_NEW_FREE_IOS_ru_full_2', 'AppStoreApps_NEW_IOS_full', 'AppStoreApps_NEW_IOS_full_2', 'AppStoreApps_NEW_IOS_full_3', 'AppStoreApps_NEW_PAID_IOS_full', 'AppStoreApps_NEW_PAID_IOS_full_2', 'AppStoreApps_NEW_PAID_IOS_full_3', 'AppStoreApps_TOP_FREE_IOS_full', 'AppStoreApps_TOP_FREE_IPAD_full', 'AppStoreApps_TOP_GROSSING_IOS_full', 'AppStoreApps_TOP_GROSSING_IOS_full_2', 'AppStoreApps_TOP_GROSSING_IOS_ru_full', 'AppStoreApps_TOP_GROSSING_IOS_ru_full_2', 'AppStoreApps_TOP_GROSSING_IPAD_ru_full', 'AppStoreApps_TOP_GROSSING_IPAD_ru_full_2', 'AppStoreApps_TOP_PAID_IOS_ru_full', 'AppStoreApps_TOP_PAID_IOS_ru_full_2', 'AppStoreApps_TOP_PAID_IPAD_ru_full', 'AppStoreApps_TOP_PAID_IPAD_ru_full_2']\n"
     ]
    }
   ],
   "source": [
    "# Путь к папке с файлами\n",
    "data_path = \"../data/\"\n",
    "\n",
    "# Получение списка всех файлов в папке\n",
    "files = [f for f in os.listdir(data_path) if f.endswith('.json')]\n",
    "\n",
    "# Список для хранения имен DataFrame\n",
    "dataframe_names = []\n",
    "\n",
    "# Обработка каждого файла\n",
    "for file_name in files:\n",
    "    file_path = os.path.join(data_path, file_name)\n",
    "    \n",
    "    # Считывание данных из JSON файла\n",
    "    with open(file_path, 'r', encoding='utf-8') as file:\n",
    "        data = json.load(file)\n",
    "    \n",
    "    # Преобразование данных в DataFrame\n",
    "    df_name = os.path.splitext(file_name)[0]  # Имя DataFrame без расширения\n",
    "    globals()[df_name] = pd.json_normalize(data)\n",
    "    \n",
    "    # Добавление имени DataFrame в список\n",
    "    dataframe_names.append(df_name)\n",
    "\n",
    "    # Для проверки можно распечатать название DataFrame и его размер\n",
    "    print(f\"DataFrame '{df_name}' создан с размером {globals()[df_name].shape}\")\n",
    "\n",
    "# Теперь все DataFrame доступны как отдельные переменные, а их имена в списке dataframe_names\n",
    "print(\"Список всех DataFrame:\", dataframe_names)\n"
   ]
  },
  {
   "cell_type": "code",
   "execution_count": 13,
   "metadata": {},
   "outputs": [],
   "source": [
    "AppStoreApps_NEW_FREE_IOS_ru_full['collection'] = 'NEW_FREE_IOS'\n",
    "AppStoreApps_NEW_FREE_IOS_ru_full_2['collection'] = 'NEW_FREE_IOS'\n",
    "AppStoreApps_NEW_IOS_full['collection'] = 'NEW_IOS'\n",
    "AppStoreApps_NEW_IOS_full_2['collection'] = 'NEW_IOS'\n",
    "AppStoreApps_NEW_IOS_full_3['collection'] = 'NEW_IOS'\n",
    "AppStoreApps_NEW_PAID_IOS_full['collection'] = 'NEW_PAID_IOS'\n",
    "AppStoreApps_NEW_PAID_IOS_full_2['collection'] = 'NEW_PAID_IOS'\n",
    "AppStoreApps_NEW_PAID_IOS_full_3['collection'] = 'NEW_PAID_IOS'\n",
    "AppStoreApps_TOP_FREE_IOS_full['collection'] = 'TOP_FREE_IOS'\n",
    "AppStoreApps_TOP_FREE_IPAD_full['collection'] = 'TOP_FREE_IPAD'\n",
    "AppStoreApps_TOP_GROSSING_IOS_full['collection'] = 'TOP_GROSSING_IOS'\n",
    "AppStoreApps_TOP_GROSSING_IOS_full_2['collection'] = 'TOP_GROSSING_IOS'\n",
    "AppStoreApps_TOP_GROSSING_IOS_ru_full['collection'] = 'TOP_GROSSING_IOS'\n",
    "AppStoreApps_TOP_GROSSING_IOS_ru_full_2['collection'] = 'TOP_GROSSING_IOS'\n",
    "AppStoreApps_TOP_GROSSING_IPAD_ru_full['collection'] = 'TOP_GROSSING_IPAD'\n",
    "AppStoreApps_TOP_GROSSING_IPAD_ru_full_2['collection'] = 'TOP_GROSSING_IPAD'\n",
    "AppStoreApps_TOP_PAID_IOS_ru_full['collection'] = 'TOP_PAID_IOS'\n",
    "AppStoreApps_TOP_PAID_IOS_ru_full_2['collection'] = 'TOP_PAID_IOS'\n",
    "AppStoreApps_TOP_PAID_IPAD_ru_full['collection'] = 'TOP_PAID_IPAD'\n",
    "AppStoreApps_TOP_PAID_IPAD_ru_full_2['collection'] = 'TOP_PAID_IPAD'"
   ]
  },
  {
   "cell_type": "code",
   "execution_count": 16,
   "metadata": {},
   "outputs": [],
   "source": [
    "AppStoreApps_NEW_FREE_IOS_ru_full['lang'] = 'ru'\n",
    "AppStoreApps_NEW_FREE_IOS_ru_full_2['lang'] = 'ru'\n",
    "AppStoreApps_NEW_IOS_full['lang'] = 'ru'\n",
    "AppStoreApps_NEW_IOS_full_2['lang'] = 'ru'\n",
    "AppStoreApps_NEW_IOS_full_3['lang'] = 'ru'\n",
    "AppStoreApps_NEW_PAID_IOS_full['lang'] = 'ru'\n",
    "AppStoreApps_NEW_PAID_IOS_full_2['lang'] = 'ru'\n",
    "AppStoreApps_NEW_PAID_IOS_full_3['lang'] = 'ru'\n",
    "AppStoreApps_TOP_FREE_IOS_full['lang'] = 'ru'\n",
    "AppStoreApps_TOP_FREE_IPAD_full['lang'] = 'ru'\n",
    "AppStoreApps_TOP_GROSSING_IOS_full['lang'] = 'ru'\n",
    "AppStoreApps_TOP_GROSSING_IOS_full_2['lang'] = 'ru'\n",
    "AppStoreApps_TOP_GROSSING_IOS_ru_full['lang'] = 'ru'\n",
    "AppStoreApps_TOP_GROSSING_IOS_ru_full_2['lang'] = 'ru'\n",
    "AppStoreApps_TOP_GROSSING_IPAD_ru_full['lang'] = 'ru'\n",
    "AppStoreApps_TOP_GROSSING_IPAD_ru_full_2['lang'] = 'ru'\n",
    "AppStoreApps_TOP_PAID_IOS_ru_full['lang'] = 'ru'\n",
    "AppStoreApps_TOP_PAID_IOS_ru_full_2['lang'] = 'ru'\n",
    "AppStoreApps_TOP_PAID_IPAD_ru_full['lang'] = 'ru'\n",
    "AppStoreApps_TOP_PAID_IPAD_ru_full_2['lang'] = 'ru'"
   ]
  },
  {
   "cell_type": "code",
   "execution_count": 25,
   "metadata": {},
   "outputs": [],
   "source": [
    "AppStoreApps = pd.concat([AppStoreApps_NEW_FREE_IOS_ru_full,\n",
    "                            AppStoreApps_NEW_FREE_IOS_ru_full_2,\n",
    "                            AppStoreApps_NEW_IOS_full,\n",
    "                            AppStoreApps_NEW_IOS_full_2,\n",
    "                            AppStoreApps_NEW_IOS_full_3,\n",
    "                            AppStoreApps_NEW_PAID_IOS_full,\n",
    "                            AppStoreApps_NEW_PAID_IOS_full_2,\n",
    "                            AppStoreApps_NEW_PAID_IOS_full_3,\n",
    "                            AppStoreApps_TOP_FREE_IOS_full,\n",
    "                            AppStoreApps_TOP_FREE_IPAD_full,\n",
    "                            AppStoreApps_TOP_GROSSING_IOS_full,\n",
    "                            AppStoreApps_TOP_GROSSING_IOS_full_2,\n",
    "                            AppStoreApps_TOP_GROSSING_IOS_ru_full,\n",
    "                            AppStoreApps_TOP_GROSSING_IOS_ru_full_2,\n",
    "                            AppStoreApps_TOP_GROSSING_IPAD_ru_full,\n",
    "                            AppStoreApps_TOP_GROSSING_IPAD_ru_full_2,\n",
    "                            AppStoreApps_TOP_PAID_IOS_ru_full,\n",
    "                            AppStoreApps_TOP_PAID_IOS_ru_full_2,\n",
    "                            AppStoreApps_TOP_PAID_IPAD_ru_full,\n",
    "                            AppStoreApps_TOP_PAID_IPAD_ru_full_2])"
   ]
  },
  {
   "cell_type": "code",
   "execution_count": 26,
   "metadata": {},
   "outputs": [
    {
     "data": {
      "text/plain": [
       "(1749485, 35)"
      ]
     },
     "execution_count": 26,
     "metadata": {},
     "output_type": "execute_result"
    }
   ],
   "source": [
    "AppStoreApps.shape"
   ]
  },
  {
   "cell_type": "code",
   "execution_count": 31,
   "metadata": {},
   "outputs": [],
   "source": [
    "AppStoreApps.to_csv('AppStoreApps_full.csv', index=False)\n",
    "# GooglePlayApps.to_csv('GooglePlayApps_full.csv', index=False)"
   ]
  },
  {
   "cell_type": "markdown",
   "metadata": {},
   "source": [
    "***"
   ]
  },
  {
   "cell_type": "markdown",
   "metadata": {},
   "source": [
    "### old"
   ]
  },
  {
   "cell_type": "code",
   "execution_count": 8,
   "metadata": {},
   "outputs": [],
   "source": [
    "# app_files = ['AppStoreApps_NEW_FREE_IOS_en', 'AppStoreApps_NEW_IOS_en', 'AppStoreApps_NEW_PAID_IOS_en', \n",
    "#                'AppStoreApps_TOP_FREE_IOS_en', 'AppStoreApps_TOP_FREE_IPAD_en', 'AppStoreApps_TOP_GROSSING_IOS_en', \n",
    "#                'AppStoreApps_TOP_GROSSING_IPAD_en', 'AppStoreApps_TOP_PAID_IOS_en', 'AppStoreApps_TOP_PAID_IPAD_en', \n",
    "#                'AppStoreApps_NEW_FREE_IOS_ru', 'AppStoreApps_NEW_IOS_ru', 'AppStoreApps_NEW_PAID_IOS_ru', \n",
    "#                'AppStoreApps_TOP_FREE_IPAD_ru', 'AppStoreApps_TOP_FREE_IOS_ru', 'AppStoreApps_TOP_GROSSING_IOS_ru', \n",
    "#                'AppStoreApps_TOP_GROSSING_IPAD_ru', 'AppStoreApps_TOP_PAID_IOS_ru', 'AppStoreApps_TOP_PAID_IPAD_ru']"
   ]
  },
  {
   "cell_type": "code",
   "execution_count": 9,
   "metadata": {},
   "outputs": [],
   "source": [
    "# with open('AppStoreApps_NEW_FREE_IOS_en.json', 'r', encoding='utf-8') as file:\n",
    "#     data = json.load(file)\n",
    "# AppStoreApps_NEW_FREE_IOS_en        = pd.json_normalize(data)\n",
    "\n",
    "# with open('AppStoreApps_NEW_IOS_en.json', 'r', encoding='utf-8') as file:\n",
    "#     data = json.load(file)\n",
    "# AppStoreApps_NEW_IOS_en             = pd.json_normalize(data)\n",
    "\n",
    "# with open('AppStoreApps_NEW_PAID_IOS_en.json', 'r', encoding='utf-8') as file:\n",
    "#     data = json.load(file)\n",
    "# AppStoreApps_NEW_PAID_IOS_en        = pd.json_normalize(data)\n",
    "\n",
    "# with open('AppStoreApps_TOP_FREE_IOS_en.json', 'r', encoding='utf-8') as file:\n",
    "#     data = json.load(file)\n",
    "# AppStoreApps_TOP_FREE_IOS_en        = pd.json_normalize(data)\n",
    "\n",
    "# with open('AppStoreApps_TOP_FREE_IPAD_en.json', 'r', encoding='utf-8') as file:\n",
    "#     data = json.load(file)\n",
    "# AppStoreApps_TOP_FREE_IPAD_en       = pd.json_normalize(data)\n",
    "\n",
    "# with open('AppStoreApps_TOP_GROSSING_IOS_en.json', 'r', encoding='utf-8') as file:\n",
    "#     data = json.load(file)\n",
    "# AppStoreApps_TOP_GROSSING_IOS_en    = pd.json_normalize(data)\n",
    "\n",
    "# with open('AppStoreApps_TOP_GROSSING_IPAD_en.json', 'r', encoding='utf-8') as file:\n",
    "#     data = json.load(file)\n",
    "# AppStoreApps_TOP_GROSSING_IPAD_en   = pd.json_normalize(data)\n",
    "\n",
    "# with open('AppStoreApps_TOP_PAID_IOS_en.json', 'r', encoding='utf-8') as file:\n",
    "#     data = json.load(file)\n",
    "# AppStoreApps_TOP_PAID_IOS_en        = pd.json_normalize(data)\n",
    "\n",
    "# with open('AppStoreApps_TOP_PAID_IPAD_en.json', 'r', encoding='utf-8') as file:\n",
    "#     data = json.load(file)\n",
    "# AppStoreApps_TOP_PAID_IPAD_en       = pd.json_normalize(data)\n",
    "\n",
    "\n",
    "\n",
    "# with open('AppStoreApps_NEW_FREE_IOS_ru.json', 'r', encoding='utf-8') as file:\n",
    "#     data = json.load(file)\n",
    "# AppStoreApps_NEW_FREE_IOS_ru        = pd.json_normalize(data)\n",
    "\n",
    "# with open('AppStoreApps_NEW_IOS_ru.json', 'r', encoding='utf-8') as file:\n",
    "#     data = json.load(file)\n",
    "# AppStoreApps_NEW_IOS_ru             = pd.json_normalize(data)\n",
    "\n",
    "# with open('AppStoreApps_NEW_PAID_IOS_ru.json', 'r', encoding='utf-8') as file:\n",
    "#     data = json.load(file)\n",
    "# AppStoreApps_NEW_PAID_IOS_ru        = pd.json_normalize(data)\n",
    "\n",
    "# with open('AppStoreApps_TOP_FREE_IPAD_ru.json', 'r', encoding='utf-8') as file:\n",
    "#     data = json.load(file)\n",
    "# AppStoreApps_TOP_FREE_IPAD_ru       = pd.json_normalize(data)\n",
    "\n",
    "# with open('AppStoreApps_TOP_FREE_IOS_ru.json', 'r', encoding='utf-8') as file:\n",
    "#     data = json.load(file)\n",
    "# AppStoreApps_TOP_FREE_IOS_ru        = pd.json_normalize(data)\n",
    "\n",
    "# with open('AppStoreApps_TOP_GROSSING_IOS_ru.json', 'r', encoding='utf-8') as file:\n",
    "#     data = json.load(file)\n",
    "# AppStoreApps_TOP_GROSSING_IOS_ru    = pd.json_normalize(data)\n",
    "\n",
    "# with open('AppStoreApps_TOP_GROSSING_IPAD_ru.json', 'r', encoding='utf-8') as file:\n",
    "#     data = json.load(file)\n",
    "# AppStoreApps_TOP_GROSSING_IPAD_ru   = pd.json_normalize(data)\n",
    "\n",
    "# with open('AppStoreApps_TOP_PAID_IOS_ru.json', 'r', encoding='utf-8') as file:\n",
    "#     data = json.load(file)\n",
    "# AppStoreApps_TOP_PAID_IOS_ru        = pd.json_normalize(data)\n",
    "\n",
    "# with open('AppStoreApps_TOP_PAID_IPAD_ru.json', 'r', encoding='utf-8') as file:\n",
    "#     data = json.load(file)\n",
    "# AppStoreApps_TOP_PAID_IPAD_ru       = pd.json_normalize(data)"
   ]
  },
  {
   "cell_type": "code",
   "execution_count": 10,
   "metadata": {},
   "outputs": [],
   "source": [
    "# with open('GooglePlayApps_GROSSING_en.json', 'r', encoding='utf-8') as file:\n",
    "#     data = json.load(file)\n",
    "# GooglePlayApps_GROSSING_en       = pd.json_normalize(data)\n",
    "\n",
    "# with open('GooglePlayApps_TOP_FREE_en.json', 'r', encoding='utf-8') as file:\n",
    "#     data = json.load(file)\n",
    "# GooglePlayApps_TOP_FREE_en       = pd.json_normalize(data)\n",
    "\n",
    "# with open('GooglePlayApps_TOP_PAID_en.json', 'r', encoding='utf-8') as file:\n",
    "#     data = json.load(file)\n",
    "# GooglePlayApps_TOP_PAID_en       = pd.json_normalize(data)\n",
    "\n",
    "\n",
    "\n",
    "# with open('GooglePlayApps_GROSSING_ru.json', 'r', encoding='utf-8') as file:\n",
    "#     data = json.load(file)\n",
    "# GooglePlayApps_GROSSING_ru       = pd.json_normalize(data)\n",
    "\n",
    "# with open('GooglePlayApps_TOP_FREE_ru.json', 'r', encoding='utf-8') as file:\n",
    "#     data = json.load(file)\n",
    "# GooglePlayApps_TOP_FREE_ru       = pd.json_normalize(data)\n",
    "\n",
    "# with open('GooglePlayApps_TOP_PAID_ru.json', 'r', encoding='utf-8') as file:\n",
    "#     data = json.load(file)\n",
    "# GooglePlayApps_TOP_PAID_ru       = pd.json_normalize(data)"
   ]
  },
  {
   "cell_type": "code",
   "execution_count": null,
   "metadata": {},
   "outputs": [],
   "source": [
    "# AppStoreApps_NEW_FREE_IOS_en = pd.read_csv('AppStoreApps_NEW_FREE_IOS_en.csv')\n",
    "# AppStoreApps_NEW_IOS_en = pd.read_csv('AppStoreApps_NEW_FREE_IOS_en.csv')\n",
    "# AppStoreApps_NEW_PAID_IOS_en = pd.read_csv('AppStoreApps_NEW_FREE_IOS_en.csv')\n",
    "# AppStoreApps_TOP_FREE_IOS_en = pd.read_csv('AppStoreApps_NEW_FREE_IOS_en.csv')\n",
    "# AppStoreApps_TOP_FREE_IPAD_en = pd.read_csv('AppStoreApps_NEW_FREE_IOS_en.csv')\n",
    "# AppStoreApps_TOP_GROSSING_IOS_en = pd.read_csv('AppStoreApps_NEW_FREE_IOS_en.csv')\n",
    "# AppStoreApps_TOP_GROSSING_IPAD_en = pd.read_csv('AppStoreApps_NEW_FREE_IOS_en.csv')\n",
    "# AppStoreApps_TOP_PAID_IOS_en = pd.read_csv('AppStoreApps_NEW_FREE_IOS_en.csv')\n",
    "# AppStoreApps_TOP_PAID_IPAD_en = pd.read_csv('AppStoreApps_NEW_FREE_IOS_en.csv')\n",
    "\n",
    "# AppStoreApps_NEW_FREE_IOS_ru = pd.read_csv('AppStoreApps_NEW_FREE_IOS_en.csv')\n",
    "# AppStoreApps_NEW_IOS_ru = pd.read_csv('AppStoreApps_NEW_FREE_IOS_en.csv')\n",
    "# AppStoreApps_NEW_PAID_IOS_ru = pd.read_csv('AppStoreApps_NEW_FREE_IOS_en.csv')\n",
    "# AppStoreApps_TOP_FREE_IPAD_ru = pd.read_csv('AppStoreApps_NEW_FREE_IOS_en.csv')\n",
    "# AppStoreApps_TOP_FREE_IOS_ru = pd.read_csv('AppStoreApps_NEW_FREE_IOS_en.csv')\n",
    "# AppStoreApps_TOP_GROSSING_IOS_ru = pd.read_csv('AppStoreApps_NEW_FREE_IOS_en.csv')\n",
    "# AppStoreApps_TOP_GROSSING_IPAD_ru = pd.read_csv('AppStoreApps_NEW_FREE_IOS_en.csv')\n",
    "# AppStoreApps_TOP_PAID_IOS_ru = pd.read_csv('AppStoreApps_NEW_FREE_IOS_en.csv')\n",
    "# AppStoreApps_TOP_PAID_IPAD_ru = pd.read_csv('AppStoreApps_NEW_FREE_IOS_en.csv')"
   ]
  },
  {
   "cell_type": "code",
   "execution_count": null,
   "metadata": {},
   "outputs": [],
   "source": [
    "# AppStoreApps_NEW_FREE_IOS_en['collection'] = 'NEW_FREE_IOS'\n",
    "# AppStoreApps_NEW_FREE_IOS_en['lang'] = 'en'\n",
    "# AppStoreApps_NEW_IOS_en['collection'] = 'NEW_IOS'\n",
    "# AppStoreApps_NEW_IOS_en['lang'] = 'en'\n",
    "# AppStoreApps_NEW_PAID_IOS_en['collection'] = 'NEW_PAID_IOS'\n",
    "# AppStoreApps_NEW_PAID_IOS_en['lang'] = 'en'\n",
    "# AppStoreApps_TOP_FREE_IOS_en['collection'] = 'TOP_FREE_IOS'\n",
    "# AppStoreApps_TOP_FREE_IOS_en['lang'] = 'en'\n",
    "# AppStoreApps_TOP_FREE_IPAD_en['collection'] = 'TOP_FREE_IPAD'\n",
    "# AppStoreApps_TOP_FREE_IPAD_en['lang'] = 'en'\n",
    "# AppStoreApps_TOP_GROSSING_IOS_en['collection'] = 'TOP_GROSSING_IOS'\n",
    "# AppStoreApps_TOP_GROSSING_IOS_en['lang'] = 'en'\n",
    "# AppStoreApps_TOP_GROSSING_IPAD_en['collection'] = 'TOP_GROSSING_IPAD'\n",
    "# AppStoreApps_TOP_GROSSING_IPAD_en['lang'] = 'en'\n",
    "# AppStoreApps_TOP_PAID_IOS_en['collection'] = 'TOP_PAID_IOS'\n",
    "# AppStoreApps_TOP_PAID_IOS_en['lang'] = 'en'\n",
    "# AppStoreApps_TOP_PAID_IPAD_en['collection'] = 'TOP_PAID_IPAD'\n",
    "# AppStoreApps_TOP_PAID_IPAD_en['lang'] = 'en'\n",
    "\n",
    "# AppStoreApps_NEW_FREE_IOS_ru['collection'] = 'NEW_FREE_IOS'\n",
    "# AppStoreApps_NEW_FREE_IOS_ru['lang'] = 'ru'\n",
    "# AppStoreApps_NEW_IOS_ru['collection'] = 'NEW_IOS'\n",
    "# AppStoreApps_NEW_IOS_ru['lang'] = 'ru'\n",
    "# AppStoreApps_NEW_PAID_IOS_ru['collection'] = 'NEW_PAID_IOS'\n",
    "# AppStoreApps_NEW_PAID_IOS_ru['lang'] = 'ru'\n",
    "# AppStoreApps_TOP_FREE_IPAD_ru['collection'] = 'TOP_FREE_IPAD'\n",
    "# AppStoreApps_TOP_FREE_IPAD_ru['lang'] = 'ru'\n",
    "# AppStoreApps_TOP_FREE_IOS_ru['collection'] = 'TOP_FREE_IOS'\n",
    "# AppStoreApps_TOP_FREE_IOS_ru['lang'] = 'ru'\n",
    "# AppStoreApps_TOP_GROSSING_IOS_ru['collection'] = 'TOP_GROSSING_IOS'\n",
    "# AppStoreApps_TOP_GROSSING_IOS_ru['lang'] = 'ru'\n",
    "# AppStoreApps_TOP_GROSSING_IPAD_ru['collection'] = 'TOP_GROSSING_IPAD'\n",
    "# AppStoreApps_TOP_GROSSING_IPAD_ru['lang'] = 'ru'\n",
    "# AppStoreApps_TOP_PAID_IOS_ru['collection'] = 'TOP_PAID_IOS'\n",
    "# AppStoreApps_TOP_PAID_IOS_ru['lang'] = 'ru'\n",
    "# AppStoreApps_TOP_PAID_IPAD_ru['collection'] = 'TOP_PAID_IPAD'\n",
    "# AppStoreApps_TOP_PAID_IPAD_ru['lang'] = 'ru'\n",
    "\n",
    "\n",
    "\n",
    "# GooglePlayApps_GROSSING_en['collection'] = 'GROSSING'\n",
    "# GooglePlayApps_GROSSING_en['lang'] = 'en'\n",
    "# GooglePlayApps_TOP_FREE_en['collection'] = 'TOP_FREE'\n",
    "# GooglePlayApps_TOP_FREE_en['lang'] = 'en'\n",
    "# GooglePlayApps_TOP_PAID_en['collection'] = 'TOP_PAID'\n",
    "# GooglePlayApps_TOP_PAID_en['lang'] = 'en'\n",
    "\n",
    "# GooglePlayApps_GROSSING_ru['collection'] = 'GROSSING'\n",
    "# GooglePlayApps_GROSSING_ru['lang'] = 'ru'\n",
    "# GooglePlayApps_TOP_FREE_ru['collection'] = 'TOP_FREE'\n",
    "# GooglePlayApps_TOP_FREE_ru['lang'] = 'ru'\n",
    "# GooglePlayApps_TOP_PAID_ru['collection'] = 'TOP_PAID'\n",
    "# GooglePlayApps_TOP_PAID_ru['lang'] = 'ru'"
   ]
  },
  {
   "cell_type": "code",
   "execution_count": 18,
   "metadata": {},
   "outputs": [],
   "source": [
    "# GooglePlayApps_GROSSING_en.shape, GooglePlayApps_TOP_FREE_en.shape"
   ]
  },
  {
   "cell_type": "code",
   "execution_count": 28,
   "metadata": {},
   "outputs": [],
   "source": [
    "# AppStoreApps = pd.concat([\n",
    "#     AppStoreApps_NEW_FREE_IOS_en, \n",
    "#     AppStoreApps_NEW_FREE_IOS_ru, \n",
    "#     AppStoreApps_NEW_IOS_en, \n",
    "#     AppStoreApps_NEW_IOS_ru, \n",
    "#     AppStoreApps_NEW_PAID_IOS_en, \n",
    "#     AppStoreApps_NEW_PAID_IOS_ru, \n",
    "#     AppStoreApps_TOP_FREE_IOS_en, \n",
    "#     AppStoreApps_TOP_FREE_IPAD_en, \n",
    "#     AppStoreApps_TOP_FREE_IPAD_ru, \n",
    "#     AppStoreApps_TOP_FREE_IOS_ru, \n",
    "#     AppStoreApps_TOP_GROSSING_IOS_en, \n",
    "#     AppStoreApps_TOP_GROSSING_IOS_ru, \n",
    "#     AppStoreApps_TOP_GROSSING_IPAD_en, \n",
    "#     AppStoreApps_TOP_GROSSING_IPAD_ru, \n",
    "#     AppStoreApps_TOP_PAID_IOS_en, \n",
    "#     AppStoreApps_TOP_PAID_IOS_ru, \n",
    "#     AppStoreApps_TOP_PAID_IPAD_en, \n",
    "#     AppStoreApps_TOP_PAID_IPAD_ru])\n",
    "\n",
    "\n",
    "# GooglePlayApps = pd.concat(\n",
    "#     [GooglePlayApps_GROSSING_en,\n",
    "#      GooglePlayApps_GROSSING_ru,\n",
    "#      GooglePlayApps_TOP_FREE_en,\n",
    "#      GooglePlayApps_TOP_FREE_ru,\n",
    "#      GooglePlayApps_TOP_PAID_en,\n",
    "#      GooglePlayApps_TOP_PAID_ru])"
   ]
  },
  {
   "cell_type": "code",
   "execution_count": 29,
   "metadata": {},
   "outputs": [],
   "source": [
    "# AppStoreApps.shape, GooglePlayApps.shape"
   ]
  },
  {
   "cell_type": "code",
   "execution_count": 32,
   "metadata": {},
   "outputs": [],
   "source": [
    "# AppStoreApps.to_csv('AppStoreApps_full.csv', index=False)\n",
    "# GooglePlayApps.to_csv('GooglePlayApps_full.csv')"
   ]
  },
  {
   "cell_type": "markdown",
   "metadata": {},
   "source": [
    "# Удаление дубликатов"
   ]
  },
  {
   "cell_type": "code",
   "execution_count": 4,
   "metadata": {},
   "outputs": [],
   "source": [
    "AppStoreApps_full_1    = pd.read_csv('../data/AppStoreApps_full_1.csv', low_memory=False)\n",
    "AppStoreApps_full_2    = pd.read_csv('../data/AppStoreApps_full_2.csv', low_memory=False)\n",
    "# GooglePlayApps_full  = pd.read_csv('GooglePlayApps_full.csv')"
   ]
  },
  {
   "cell_type": "code",
   "execution_count": 5,
   "metadata": {},
   "outputs": [],
   "source": [
    "AppStoreApps_full = pd.concat([AppStoreApps_full_1, AppStoreApps_full_2])"
   ]
  },
  {
   "cell_type": "code",
   "execution_count": 6,
   "metadata": {},
   "outputs": [
    {
     "data": {
      "text/plain": [
       "(2506747, 36)"
      ]
     },
     "execution_count": 6,
     "metadata": {},
     "output_type": "execute_result"
    }
   ],
   "source": [
    "AppStoreApps_full.shape"
   ]
  },
  {
   "cell_type": "code",
   "execution_count": 7,
   "metadata": {},
   "outputs": [],
   "source": [
    "AppStoreApps = AppStoreApps_full[['title', 'genres', 'primaryGenre', 'contentRating', 'languages', 'size', \n",
    "                                    'requiredOsVersion', 'released', 'updated', 'version', 'price', 'currency', \n",
    "                                    'free', 'score', 'reviews', 'currentVersionScore', 'currentVersionReviews', \n",
    "                                    'collection', 'lang']]"
   ]
  },
  {
   "cell_type": "code",
   "execution_count": 8,
   "metadata": {},
   "outputs": [],
   "source": [
    "AppStoreApps = AppStoreApps.drop_duplicates()"
   ]
  },
  {
   "cell_type": "code",
   "execution_count": 9,
   "metadata": {},
   "outputs": [
    {
     "data": {
      "text/plain": [
       "(19794, 19)"
      ]
     },
     "execution_count": 9,
     "metadata": {},
     "output_type": "execute_result"
    }
   ],
   "source": [
    "AppStoreApps.shape"
   ]
  },
  {
   "cell_type": "code",
   "execution_count": 10,
   "metadata": {},
   "outputs": [],
   "source": [
    "AppStoreApps.to_csv('../data/AppStoreApps.csv', index=False)"
   ]
  },
  {
   "cell_type": "code",
   "execution_count": null,
   "metadata": {},
   "outputs": [],
   "source": [
    "# GooglePlayApps_full.head()"
   ]
  },
  {
   "cell_type": "code",
   "execution_count": null,
   "metadata": {},
   "outputs": [],
   "source": [
    "# GooglePlayApps = GooglePlayApps_full[['title', 'installs', 'score', 'scoreText', 'ratings', 'reviews', 'price', 'free', \n",
    "#                                         'currency', 'priceText', 'available', 'offersIAP', 'IAPRange', 'genre', 'genreId',\n",
    "#                                         'categories', 'contentRating', 'contentRatingDescription', 'adSupported', 'released', \n",
    "#                                         'updated', 'version', 'preregister', 'earlyAccessEnabled', 'isAvailableInPlayPass',\n",
    "#                                         'histogram.1', 'histogram.2', 'histogram.3', 'histogram.4', 'histogram.5', 'originalPrice',\n",
    "#                                         'discountEndDate', 'collection', 'lang']]"
   ]
  },
  {
   "cell_type": "code",
   "execution_count": null,
   "metadata": {},
   "outputs": [],
   "source": [
    "# GooglePlayApps.shape"
   ]
  },
  {
   "cell_type": "code",
   "execution_count": null,
   "metadata": {},
   "outputs": [],
   "source": [
    "# GooglePlayApps = GooglePlayApps.drop_duplicates()"
   ]
  },
  {
   "cell_type": "code",
   "execution_count": null,
   "metadata": {},
   "outputs": [],
   "source": [
    "# GooglePlayApps.shape"
   ]
  },
  {
   "cell_type": "code",
   "execution_count": null,
   "metadata": {},
   "outputs": [],
   "source": [
    "# GooglePlayApps.to_csv('GooglePlayApps.csv')"
   ]
  }
 ],
 "metadata": {
  "kernelspec": {
   "display_name": "Python 3",
   "language": "python",
   "name": "python3"
  },
  "language_info": {
   "codemirror_mode": {
    "name": "ipython",
    "version": 3
   },
   "file_extension": ".py",
   "mimetype": "text/x-python",
   "name": "python",
   "nbconvert_exporter": "python",
   "pygments_lexer": "ipython3",
   "version": "3.9.10"
  }
 },
 "nbformat": 4,
 "nbformat_minor": 2
}
