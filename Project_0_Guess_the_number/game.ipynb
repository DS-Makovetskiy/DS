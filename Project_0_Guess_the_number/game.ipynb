{
 "cells": [
  {
   "cell_type": "markdown",
   "metadata": {},
   "source": [
    "# <center>Проект 0. </br>Игра: Угадай число</center>"
   ]
  },
  {
   "cell_type": "markdown",
   "metadata": {},
   "source": [
    "## Ипорт библиотек"
   ]
  },
  {
   "cell_type": "code",
   "execution_count": 1,
   "metadata": {},
   "outputs": [],
   "source": [
    "from game import score_games\n",
    "from game import adaptive_random_guess\n",
    "from game import binary_search_predict"
   ]
  },
  {
   "cell_type": "markdown",
   "metadata": {},
   "source": [
    "## Угадываем рандомно"
   ]
  },
  {
   "cell_type": "markdown",
   "metadata": {},
   "source": [
    "Выполним сравнение алгоритмов по количеству попыток для угадывания числа."
   ]
  },
  {
   "cell_type": "code",
   "execution_count": 2,
   "metadata": {},
   "outputs": [
    {
     "name": "stdout",
     "output_type": "stream",
     "text": [
      "Случайный алгоритм с адаптивным подходом: 9 попыток\n",
      "Алгоритм бинарного пописка: 5 попыток\n"
     ]
    }
   ],
   "source": [
    "arg = score_games(adaptive_random_guess)\n",
    "bsp = score_games(binary_search_predict)\n",
    "\n",
    "print(f'Случайный алгоритм с адаптивным подходом: {arg} попыток')\n",
    "print(f'Алгоритм бинарного пописка: {bsp} попыток')"
   ]
  },
  {
   "cell_type": "markdown",
   "metadata": {},
   "source": [
    "Наиболее эффективным оказался алгоритм бинарного поиска, так как он смог угадать число всего за 5 попыток."
   ]
  }
 ],
 "metadata": {
  "interpreter": {
   "hash": "0f97891ca85475743fd064230ee15d88d6bbe0ff3af6927157d102c2a2c8fc2b"
  },
  "kernelspec": {
   "display_name": "Python 3.9.10 64-bit",
   "language": "python",
   "name": "python3"
  },
  "language_info": {
   "codemirror_mode": {
    "name": "ipython",
    "version": 3
   },
   "file_extension": ".py",
   "mimetype": "text/x-python",
   "name": "python",
   "nbconvert_exporter": "python",
   "pygments_lexer": "ipython3",
   "version": "3.9.10"
  },
  "orig_nbformat": 4
 },
 "nbformat": 4,
 "nbformat_minor": 2
}
